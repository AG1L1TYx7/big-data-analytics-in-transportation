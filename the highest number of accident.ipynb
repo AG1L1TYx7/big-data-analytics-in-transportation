{
 "cells": [
  {
   "cell_type": "code",
   "execution_count": 1,
   "metadata": {},
   "outputs": [],
   "source": [
    "import pandas as pd\n",
    "import seaborn as sns\n",
    "import matplotlib.pyplot as plt\n"
   ]
  },
  {
   "cell_type": "code",
   "execution_count": 2,
   "metadata": {},
   "outputs": [
    {
     "name": "stdout",
     "output_type": "stream",
     "text": [
      "                ID    Source    TMC  Severity           Start_Time  \\\n",
      "0              A-1  MapQuest  201.0         3  2016-02-08 05:46:00   \n",
      "1              A-2  MapQuest  201.0         2  2016-02-08 06:07:59   \n",
      "2              A-3  MapQuest  201.0         2  2016-02-08 06:49:27   \n",
      "3              A-4  MapQuest  201.0         3  2016-02-08 07:23:34   \n",
      "4              A-5  MapQuest  201.0         2  2016-02-08 07:39:07   \n",
      "...            ...       ...    ...       ...                  ...   \n",
      "4229389  A-4239402      Bing    NaN         2  2019-08-23 18:03:25   \n",
      "4229390  A-4239403      Bing    NaN         2  2019-08-23 19:11:30   \n",
      "4229391  A-4239404      Bing    NaN         2  2019-08-23 19:00:21   \n",
      "4229392  A-4239405      Bing    NaN         2  2019-08-23 19:00:21   \n",
      "4229393  A-4239406      Bing    NaN         2  2019-08-23 18:52:06   \n",
      "\n",
      "                    End_Time  Start_Lat   Start_Lng   End_Lat    End_Lng  ...  \\\n",
      "0        2016-02-08 11:00:00  39.865147  -84.058723       NaN        NaN  ...   \n",
      "1        2016-02-08 06:37:59  39.928059  -82.831184       NaN        NaN  ...   \n",
      "2        2016-02-08 07:19:27  39.063148  -84.032608       NaN        NaN  ...   \n",
      "3        2016-02-08 07:53:34  39.747753  -84.205582       NaN        NaN  ...   \n",
      "4        2016-02-08 08:09:07  39.627781  -84.188354       NaN        NaN  ...   \n",
      "...                      ...        ...         ...       ...        ...  ...   \n",
      "4229389  2019-08-23 18:32:01  34.002480 -117.379360  33.99888 -117.37094  ...   \n",
      "4229390  2019-08-23 19:38:23  32.766960 -117.148060  32.76555 -117.15363  ...   \n",
      "4229391  2019-08-23 19:28:49  33.775450 -117.847790  33.77740 -117.85727  ...   \n",
      "4229392  2019-08-23 19:29:42  33.992460 -118.403020  33.98311 -118.39565  ...   \n",
      "4229393  2019-08-23 19:21:31  34.133930 -117.230920  34.13736 -117.23934  ...   \n",
      "\n",
      "         Roundabout Station   Stop Traffic_Calming Traffic_Signal  \\\n",
      "0             False   False  False           False          False   \n",
      "1             False   False  False           False          False   \n",
      "2             False   False  False           False           True   \n",
      "3             False   False  False           False          False   \n",
      "4             False   False  False           False           True   \n",
      "...             ...     ...    ...             ...            ...   \n",
      "4229389       False   False  False           False          False   \n",
      "4229390       False   False  False           False          False   \n",
      "4229391       False   False  False           False          False   \n",
      "4229392       False   False  False           False          False   \n",
      "4229393       False   False  False           False          False   \n",
      "\n",
      "        Turning_Loop Sunrise_Sunset Civil_Twilight Nautical_Twilight  \\\n",
      "0              False          Night          Night             Night   \n",
      "1              False          Night          Night             Night   \n",
      "2              False          Night          Night               Day   \n",
      "3              False          Night            Day               Day   \n",
      "4              False            Day            Day               Day   \n",
      "...              ...            ...            ...               ...   \n",
      "4229389        False            Day            Day               Day   \n",
      "4229390        False            Day            Day               Day   \n",
      "4229391        False            Day            Day               Day   \n",
      "4229392        False            Day            Day               Day   \n",
      "4229393        False            Day            Day               Day   \n",
      "\n",
      "        Astronomical_Twilight  \n",
      "0                       Night  \n",
      "1                         Day  \n",
      "2                         Day  \n",
      "3                         Day  \n",
      "4                         Day  \n",
      "...                       ...  \n",
      "4229389                   Day  \n",
      "4229390                   Day  \n",
      "4229391                   Day  \n",
      "4229392                   Day  \n",
      "4229393                   Day  \n",
      "\n",
      "[4229394 rows x 49 columns]\n"
     ]
    }
   ],
   "source": [
    "df = pd.read_csv(r\"C:\\Users\\user\\OneDrive\\Desktop\\python\\US_Accidents_Dec20.csv\")\n",
    "print(df)"
   ]
  },
  {
   "cell_type": "code",
   "execution_count": 4,
   "metadata": {},
   "outputs": [
    {
     "name": "stdout",
     "output_type": "stream",
     "text": [
      "Index(['ID', 'Source', 'TMC', 'Severity', 'Start_Time', 'End_Time',\n",
      "       'Start_Lat', 'Start_Lng', 'End_Lat', 'End_Lng', 'Distance(mi)',\n",
      "       'Description', 'Number', 'Street', 'Side', 'City', 'County', 'State',\n",
      "       'Zipcode', 'Country', 'Timezone', 'Airport_Code', 'Weather_Timestamp',\n",
      "       'Temperature(F)', 'Wind_Chill(F)', 'Humidity(%)', 'Pressure(in)',\n",
      "       'Visibility(mi)', 'Wind_Direction', 'Wind_Speed(mph)',\n",
      "       'Precipitation(in)', 'Weather_Condition', 'Amenity', 'Bump', 'Crossing',\n",
      "       'Give_Way', 'Junction', 'No_Exit', 'Railway', 'Roundabout', 'Station',\n",
      "       'Stop', 'Traffic_Calming', 'Traffic_Signal', 'Turning_Loop',\n",
      "       'Sunrise_Sunset', 'Civil_Twilight', 'Nautical_Twilight',\n",
      "       'Astronomical_Twilight'],\n",
      "      dtype='object')\n"
     ]
    }
   ],
   "source": [
    "print(df.columns)\n"
   ]
  },
  {
   "cell_type": "code",
   "execution_count": 6,
   "metadata": {},
   "outputs": [],
   "source": [
    "numberOfAccidents = df[[\"ID\", \"State\"]].groupby(\"State\").count().sort_values(\"ID\", ascending=False)"
   ]
  },
  {
   "cell_type": "code",
   "execution_count": 8,
   "metadata": {},
   "outputs": [
    {
     "data": {
      "text/html": [
       "<div>\n",
       "<style scoped>\n",
       "    .dataframe tbody tr th:only-of-type {\n",
       "        vertical-align: middle;\n",
       "    }\n",
       "\n",
       "    .dataframe tbody tr th {\n",
       "        vertical-align: top;\n",
       "    }\n",
       "\n",
       "    .dataframe thead th {\n",
       "        text-align: right;\n",
       "    }\n",
       "</style>\n",
       "<table border=\"1\" class=\"dataframe\">\n",
       "  <thead>\n",
       "    <tr style=\"text-align: right;\">\n",
       "      <th></th>\n",
       "      <th>ID</th>\n",
       "    </tr>\n",
       "    <tr>\n",
       "      <th>State</th>\n",
       "      <th></th>\n",
       "    </tr>\n",
       "  </thead>\n",
       "  <tbody>\n",
       "    <tr>\n",
       "      <th>CA</th>\n",
       "      <td>971856</td>\n",
       "    </tr>\n",
       "    <tr>\n",
       "      <th>TX</th>\n",
       "      <td>376282</td>\n",
       "    </tr>\n",
       "    <tr>\n",
       "      <th>FL</th>\n",
       "      <td>369559</td>\n",
       "    </tr>\n",
       "    <tr>\n",
       "      <th>SC</th>\n",
       "      <td>212573</td>\n",
       "    </tr>\n",
       "    <tr>\n",
       "      <th>NC</th>\n",
       "      <td>193331</td>\n",
       "    </tr>\n",
       "    <tr>\n",
       "      <th>NY</th>\n",
       "      <td>189393</td>\n",
       "    </tr>\n",
       "    <tr>\n",
       "      <th>PA</th>\n",
       "      <td>135909</td>\n",
       "    </tr>\n",
       "    <tr>\n",
       "      <th>VA</th>\n",
       "      <td>127774</td>\n",
       "    </tr>\n",
       "    <tr>\n",
       "      <th>IL</th>\n",
       "      <td>111692</td>\n",
       "    </tr>\n",
       "    <tr>\n",
       "      <th>OR</th>\n",
       "      <td>108242</td>\n",
       "    </tr>\n",
       "  </tbody>\n",
       "</table>\n",
       "</div>"
      ],
      "text/plain": [
       "           ID\n",
       "State        \n",
       "CA     971856\n",
       "TX     376282\n",
       "FL     369559\n",
       "SC     212573\n",
       "NC     193331\n",
       "NY     189393\n",
       "PA     135909\n",
       "VA     127774\n",
       "IL     111692\n",
       "OR     108242"
      ]
     },
     "execution_count": 8,
     "metadata": {},
     "output_type": "execute_result"
    }
   ],
   "source": [
    "numberOfAccidents.head(10)"
   ]
  },
  {
   "cell_type": "code",
   "execution_count": 9,
   "metadata": {},
   "outputs": [
    {
     "name": "stderr",
     "output_type": "stream",
     "text": [
      "c:\\users\\user\\appdata\\local\\programs\\python\\python39\\lib\\site-packages\\seaborn\\_decorators.py:36: FutureWarning: Pass the following variables as keyword args: x, y. From version 0.12, the only valid positional argument will be `data`, and passing other arguments without an explicit keyword will result in an error or misinterpretation.\n",
      "  warnings.warn(\n"
     ]
    },
    {
     "data": {
      "text/plain": [
       "<AxesSubplot:xlabel='ID', ylabel='State'>"
      ]
     },
     "execution_count": 9,
     "metadata": {},
     "output_type": "execute_result"
    },
    {
     "data": {
      "image/png": "[encoded data removed]",
      "text/plain": [
       "<Figure size 432x288 with 1 Axes>"
      ]
     },
     "metadata": {
      "needs_background": "light"
     },
     "output_type": "display_data"
    }
   ],
   "source": [
    "sns.barplot(numberOfAccidents[\"ID\"], numberOfAccidents.index)"
   ]
  },
  {
   "cell_type": "code",
   "execution_count": null,
   "metadata": {},
   "outputs": [],
   "source": []
  }
 ],
 "metadata": {
  "kernelspec": {
   "display_name": "Python 3",
   "language": "python",
   "name": "python3"
  },
  "language_info": {
   "codemirror_mode": {
    "name": "ipython",
    "version": 3
   },
   "file_extension": ".py",
   "mimetype": "text/x-python",
   "name": "python",
   "nbconvert_exporter": "python",
   "pygments_lexer": "ipython3",
   "version": "3.8.5"
  }
 },
 "nbformat": 4,
 "nbformat_minor": 5
}
